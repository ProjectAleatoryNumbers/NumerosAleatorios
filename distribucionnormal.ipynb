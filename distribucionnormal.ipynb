{
 "cells": [
  {
   "cell_type": "code",
   "execution_count": 2,
   "metadata": {},
   "outputs": [
    {
     "data": {
      "image/png": "[encoded data removed]",
      "text/plain": [
       "<Figure size 432x288 with 1 Axes>"
      ]
     },
     "metadata": {
      "needs_background": "light"
     },
     "output_type": "display_data"
    }
   ],
   "source": [
    "\"\"\"Castillo Flores Junior Manuel\"\"\"\n",
    "\"\"\"por el teorema del limite central a partir de una distribucion uniforme\n",
    "    obtendremos una distribucion normal cuando n -> inf , Donde n = numero\n",
    "    de muestras\n",
    "\"\"\"\n",
    "\n",
    "import numpy as np\n",
    "import math\n",
    "a   = 7**5\n",
    "b   = 630360016\n",
    "m   = 2**31-1\n",
    "\n",
    "def generadorAleatorio(x , semilla):\n",
    "    x[0]    =   semilla\n",
    "    for i in range(len(x)-1):\n",
    "        x[i+1]    =  ( a*x[i] + b ) %   m\n",
    "    return x\n",
    "def uniformizar(x):\n",
    "    u   =   np.ones_like(x)\n",
    "    u[:]   = x[:]/m\n",
    "    return u\n",
    "def convolucion(u,n,media,varianza):\n",
    "    z   = ( sum(u) - media*n ) / math.sqrt( varianza*n )\n",
    "    return z\n",
    "\n",
    "#n   =   100000\n",
    "semilla =   1024\n",
    "muestras    = 1000\n",
    "x   =   np.ones(muestras)\n",
    "iid = []\n",
    "u = []\n",
    "media = []\n",
    "varianza = []\n",
    "z = []\n",
    "for i in range(muestras):\n",
    "    iid.append(np.array(generadorAleatorio(x,semilla+i)))\n",
    "    u.append(np.array(uniformizar(iid[i])))\n",
    "    media.append(np.mean(u[i]))\n",
    "    varianza.append(np.var(u[i]))\n",
    "\n",
    "    z.append(convolucion(u[i],muestras,media[i],varianza[i]))\n",
    "z =np.array(z)\n",
    "#print (\"numeros pseudoaleatorios\\n\",x)\n",
    "#print (\"numeros pseudoaleatorios uniformizados\\n\",u)\n",
    "#print (\"normal:\",z)\n",
    "\n",
    "X =  z[:]*muestras + media\n",
    "\n",
    "import matplotlib.pyplot as plt\n",
    "%matplotlib inline\n",
    "\n",
    "cuenta,cajas,ignorar    =   plt.hist(z,20)\n",
    "plt.xlabel(\"valores\")\n",
    "plt.ylabel(\"frecuencias\")\n",
    "plt.show()"
   ]
  },
  {
   "cell_type": "code",
   "execution_count": null,
   "metadata": {},
   "outputs": [],
   "source": []
  }
 ],
 "metadata": {
  "kernelspec": {
   "display_name": "Python 3",
   "language": "python",
   "name": "python3"
  },
  "language_info": {
   "codemirror_mode": {
    "name": "ipython",
    "version": 3
   },
   "file_extension": ".py",
   "mimetype": "text/x-python",
   "name": "python",
   "nbconvert_exporter": "python",
   "pygments_lexer": "ipython3",
   "version": "3.5.4"
  }
 },
 "nbformat": 4,
 "nbformat_minor": 2
}
